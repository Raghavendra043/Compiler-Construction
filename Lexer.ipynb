{
 "cells": [
  {
   "cell_type": "code",
   "execution_count": null,
   "id": "687316ff",
   "metadata": {},
   "outputs": [],
   "source": [
    "Tokens = {\n",
    "    'keyword': 'Keyword',\n",
    "    'op': 'Operator',\n",
    "    'delim': 'Delimiter',\n",
    "    'id': 'Identifier',\n",
    "    'int': 'Integer Literal',\n",
    "    'fp': 'Floating Point Literal',\n",
    "    'str': 'String Literal'\n",
    "}\n",
    "\n",
    "TokenNo = 1\n",
    "\n",
    "keywords = ['int', 'float', 'boolean', 'string',\n",
    "            'while', 'until', 'if else', 'true', 'false']\n",
    "keywordEnm = list(enumerate(keywords, start=TokenNo))\n",
    "TokenNo += len(keywords)\n",
    "\n",
    "delimiters = ['{', '}', '[', ']', '(', ')', ';', ',']\n",
    "delimEnm = list(enumerate(delimiters, start=TokenNo))\n",
    "TokenNo += len(delimiters)\n"
   ]
  },
  {
   "cell_type": "code",
   "execution_count": null,
   "id": "e6e3987f",
   "metadata": {},
   "outputs": [],
   "source": [
    "def isKeyword(s):\n",
    "    for i in range(len(keywords)):\n",
    "        if keywordEnm[i][1] == s:\n",
    "            return (keywordEnm[i][0], Tokens['keyword'], s)\n",
    "    return False\n"
   ]
  },
  {
   "cell_type": "code",
   "execution_count": null,
   "id": "a74ba3cb",
   "metadata": {},
   "outputs": [],
   "source": [
    "def printDelimToken(s):\n",
    "    for i in range(len(delimiters)):\n",
    "        if delimEnm[i][1] == s:\n",
    "            print((delimEnm[i][0], Tokens['delim'], s))\n",
    "            return"
   ]
  },
  {
   "cell_type": "code",
   "execution_count": null,
   "id": "2da8a9ff",
   "metadata": {},
   "outputs": [],
   "source": [
    "def dfaStart(subStr):\n",
    "    global dfa\n",
    "    keyWord = dfa[1](subStr)\n",
    "    if keyWord != False:\n",
    "        print(keyWord)\n",
    "        return\n",
    "\n",
    "    print('none')"
   ]
  },
  {
   "cell_type": "code",
   "execution_count": null,
   "id": "5202cd78",
   "metadata": {},
   "outputs": [],
   "source": [
    "dfa = {\n",
    "    0: dfaStart,\n",
    "    1: isKeyword,\n",
    "    # 2: printDelimToken,\n",
    "}"
   ]
  },
  {
   "cell_type": "code",
   "execution_count": null,
   "id": "758ff315",
   "metadata": {},
   "outputs": [],
   "source": [
    "def trim(str):\n",
    "    p = 0\n",
    "    while p<len(str) and str[p]==' ':\n",
    "        p+=1\n",
    "    return {\n",
    "        'newStr': str[p:],\n",
    "        'base': p\n",
    "    }"
   ]
  },
  {
   "cell_type": "code",
   "execution_count": null,
   "id": "10d69ced",
   "metadata": {},
   "outputs": [],
   "source": [
    "True & 7"
   ]
  },
  {
   "cell_type": "code",
   "execution_count": null,
   "id": "23efa2bd",
   "metadata": {},
   "outputs": [],
   "source": [
    "def subStrSpace(str):\n",
    "    p = 0\n",
    "    while p<len(str) and str[p]!=' ':\n",
    "        p+=1\n",
    "    # if p==len(str):\n",
    "    #     return (str[0:p], str[p:])\n",
    "    return (str[0:p], str[p:], p)"
   ]
  },
  {
   "cell_type": "code",
   "execution_count": null,
   "id": "fc24e03a",
   "metadata": {},
   "outputs": [],
   "source": [
    "def subStrDelim(str, base):\n",
    "    global delimiters, dfa, delimPos\n",
    "    \n",
    "    lp = fp = 0\n",
    "    while lp<len(str):\n",
    "        if str[fp] in delimiters:\n",
    "            if lp!=fp:\n",
    "                dfa[0]((str[lp:fp]))\n",
    "            else:\n",
    "                delimPos.append(base+fp)\n",
    "                fp+=1\n",
    "                printDelimToken(str[lp:fp])\n",
    "            lp = fp\n",
    "        else:\n",
    "            fp+=1\n",
    "            if fp==len(str):\n",
    "                dfa[0]((str[lp:fp]))\n",
    "                return"
   ]
  },
  {
   "cell_type": "code",
   "execution_count": null,
   "id": "19099834",
   "metadata": {},
   "outputs": [],
   "source": [
    "test = '  int ;float'\n",
    "delimPos = []\n",
    "base = 0\n",
    "copy = test[:]\n",
    "lenTest = len(test)\n",
    "\n",
    "while copy:\n",
    "    trimmedStr = trim(copy)\n",
    "    copy = trimmedStr['newStr']\n",
    "    base+=trimmedStr['base']\n",
    "    \n",
    "    tokens = subStrSpace(copy)\n",
    "    subStrDelim(tokens[0], base)\n",
    "    \n",
    "    copy = tokens[1]\n",
    "    base+=tokens[2]\n",
    "delimPos"
   ]
  },
  {
   "cell_type": "code",
   "execution_count": 16,
   "id": "0bd3c862",
   "metadata": {},
   "outputs": [
    {
     "name": "stdout",
     "output_type": "stream",
     "text": [
      "hell\n",
      "9\n"
     ]
    }
   ],
   "source": [
    "with open(\"test2.txt\", 'r+', encoding='utf-8') as f:\n",
    "    f.write('hello')\n",
    "    # print(f.write(\"my first file\\n\"))\n",
    "    # f.write(\"This file\\n\\n\")\n",
    "    # f.write(\"contains three lines\\n\")\n",
    "    print(f.read(4))\n",
    "    print(f.tell())"
   ]
  }
 ],
 "metadata": {
  "kernelspec": {
   "display_name": "Python 3 (ipykernel)",
   "language": "python",
   "name": "python3"
  },
  "language_info": {
   "codemirror_mode": {
    "name": "ipython",
    "version": 3
   },
   "file_extension": ".py",
   "mimetype": "text/x-python",
   "name": "python",
   "nbconvert_exporter": "python",
   "pygments_lexer": "ipython3",
   "version": "3.10.2"
  }
 },
 "nbformat": 4,
 "nbformat_minor": 5
}
