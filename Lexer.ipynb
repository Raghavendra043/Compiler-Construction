{
 "cells": [
  {
   "cell_type": "code",
   "execution_count": null,
   "id": "687316ff",
   "metadata": {},
   "outputs": [],
   "source": [
    "Tokens = {\n",
    "    'keyword': 'Keyword',\n",
    "    'op': 'Operator',\n",
    "    'delim': 'Delimiter',\n",
    "    'id': 'Identifier',\n",
    "    'int': 'Integer Literal',\n",
    "    'fp': 'Floating Point Literal',\n",
    "    'str': 'String Literal'\n",
    "}\n",
    "\n",
    "TokenNo = 1\n",
    "\n",
    "keywords = ['int', 'float', 'boolean', 'string',\n",
    "            'while', 'until', 'if else', 'true', 'false']\n",
    "keywordEnm = list(enumerate(keywords, start=TokenNo))\n",
    "TokenNo += len(keywords)\n",
    "\n",
    "delimiters = ['{', '}', '[', ']', '(', ')', ';', ',']\n",
    "delimEnm = list(enumerate(delimiters, start=TokenNo))\n",
    "TokenNo += len(delimiters)\n"
   ]
  },
  {
   "cell_type": "code",
   "execution_count": null,
   "id": "e6e3987f",
   "metadata": {},
   "outputs": [],
   "source": [
    "def isKeyword(s, st):\n",
    "    global state\n",
    "    for i in range(len(keywords)):\n",
    "        if keywordEnm[i][1] == s:\n",
    "            return (keywordEnm[i][0], Tokens['keyword'], s)\n",
    "            # print((keywordEnm[i][0], Tokens['keyword'], s))\n",
    "            # return\n",
    "    return False\n"
   ]
  },
  {
   "cell_type": "code",
   "execution_count": null,
   "id": "a74ba3cb",
   "metadata": {},
   "outputs": [],
   "source": [
    "def isDelimiter(s ,st):\n",
    "    global state\n",
    "    for i in range(len(delimiters)):\n",
    "        if delimEnm[i][1] == s:\n",
    "            return (delimEnm[i][0], Tokens['delim'], s)\n",
    "            # print((delimEnm[i][0], Tokens['delim'], s))\n",
    "            # return\n",
    "    return False\n"
   ]
  },
  {
   "cell_type": "code",
   "execution_count": null,
   "id": "5d8449c6",
   "metadata": {},
   "outputs": [],
   "source": [
    "# print(isKeyword('boolean'))\n",
    "# print(isKeyword('bolea'))\n",
    "# print(isDelimiter(']'))\n",
    "# print(isDelimiter(']{'))"
   ]
  },
  {
   "cell_type": "code",
   "execution_count": null,
   "id": "430d2a8b",
   "metadata": {},
   "outputs": [],
   "source": [
    "x = 'uiop'\n",
    "x[1:2]"
   ]
  },
  {
   "cell_type": "code",
   "execution_count": null,
   "id": "2da8a9ff",
   "metadata": {},
   "outputs": [],
   "source": [
    "def start(subStr):\n",
    "    global dfa, state\n",
    "    keyWord = dfa[1](subStr, state)\n",
    "    if keyWord != False:\n",
    "        return keyWord\n",
    "\n",
    "    delim = dfa[2](subStr, state)\n",
    "    if delim != False:\n",
    "        return delim\n",
    "\n",
    "    return 'none'"
   ]
  },
  {
   "cell_type": "code",
   "execution_count": null,
   "id": "5202cd78",
   "metadata": {},
   "outputs": [],
   "source": [
    "dfa = {\n",
    "    0: start,\n",
    "    1: isKeyword,\n",
    "    2: isDelimiter,\n",
    "}\n",
    "\n",
    "def dfaSim(subStr):\n",
    "    global dfa\n",
    "    state = 0\n",
    "    token = dfa[state](subStr)\n",
    "    print(token)"
   ]
  },
  {
   "cell_type": "code",
   "execution_count": null,
   "id": "30ac4832",
   "metadata": {},
   "outputs": [],
   "source": [
    "testStr = 'int float { } boolean;'\n",
    "\n",
    "lp = fp = 0\n",
    "state = 0\n",
    "while lp!=len(testStr)-1 or fp!=len(testStr)-1:\n",
    "    if testStr[fp] == ' ':\n",
    "        fp += 1\n",
    "        continue\n",
    "    print('fp lp 1: ', fp, lp)\n",
    "    lp = fp\n",
    "\n",
    "    while testStr[fp]!=' ' and testStr[fp]!=';':\n",
    "        fp+=1\n",
    "    print('fp lp 2: ', fp, lp)\n",
    "    sstr = testStr[lp:fp]\n",
    "    print(sstr)\n",
    "    dfaSim(sstr)\n",
    "    print('fp lp 3: ', fp, lp)\n",
    "    print('///////////next loop//////////////')"
   ]
  }
 ],
 "metadata": {
  "kernelspec": {
   "display_name": "Python 3 (ipykernel)",
   "language": "python",
   "name": "python3"
  },
  "language_info": {
   "codemirror_mode": {
    "name": "ipython",
    "version": 3
   },
   "file_extension": ".py",
   "mimetype": "text/x-python",
   "name": "python",
   "nbconvert_exporter": "python",
   "pygments_lexer": "ipython3",
   "version": "3.10.2"
  }
 },
 "nbformat": 4,
 "nbformat_minor": 5
}
