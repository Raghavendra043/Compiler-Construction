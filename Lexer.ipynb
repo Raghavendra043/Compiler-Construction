{
 "cells": [
  {
   "cell_type": "code",
   "execution_count": 90,
   "id": "687316ff",
   "metadata": {},
   "outputs": [],
   "source": [
    "Tokens = {\n",
    "    'keyword': 'Keyword',\n",
    "    'op': 'Operator',\n",
    "    'delim': 'Delimiter',\n",
    "    'id': 'Identifier',\n",
    "    'int': 'Integer Literal',\n",
    "    'fp': 'Floating Point Literal',\n",
    "    'str': 'String Literal'\n",
    "}\n",
    "\n",
    "TokenNo = 1\n",
    "\n",
    "keywords = ['int', 'float', 'boolean', 'string',\n",
    "            'while', 'until', 'if else', 'true', 'false']\n",
    "keywordEnm = list(enumerate(keywords, start=TokenNo))\n",
    "TokenNo += len(keywords)\n",
    "\n",
    "delimiters = ['{', '}', '[', ']', '(', ')', ';', ',']\n",
    "delimEnm = list(enumerate(delimiters, start=TokenNo))\n",
    "TokenNo += len(delimiters)\n"
   ]
  },
  {
   "cell_type": "code",
   "execution_count": 91,
   "id": "e6e3987f",
   "metadata": {},
   "outputs": [],
   "source": [
    "def isKeyword(s):\n",
    "    for i in range(len(keywords)):\n",
    "        if keywordEnm[i][1] == s:\n",
    "            return (keywordEnm[i][0], Tokens['keyword'], s)\n",
    "    return False\n"
   ]
  },
  {
   "cell_type": "code",
   "execution_count": 92,
   "id": "a74ba3cb",
   "metadata": {},
   "outputs": [],
   "source": [
    "def printDelimToken(s):\n",
    "    for i in range(len(delimiters)):\n",
    "        if delimEnm[i][1] == s:\n",
    "            print((delimEnm[i][0], Tokens['delim'], s))\n",
    "            return"
   ]
  },
  {
   "cell_type": "code",
   "execution_count": 93,
   "id": "2da8a9ff",
   "metadata": {},
   "outputs": [],
   "source": [
    "def dfaStart(subStr):\n",
    "    global dfa\n",
    "    keyWord = dfa[1](subStr)\n",
    "    if keyWord != False:\n",
    "        print(keyWord)\n",
    "        return\n",
    "\n",
    "    print('none')"
   ]
  },
  {
   "cell_type": "code",
   "execution_count": 94,
   "id": "5202cd78",
   "metadata": {},
   "outputs": [],
   "source": [
    "dfa = {\n",
    "    0: dfaStart,\n",
    "    1: isKeyword,\n",
    "    # 2: printDelimToken,\n",
    "}"
   ]
  },
  {
   "cell_type": "code",
   "execution_count": 95,
   "id": "758ff315",
   "metadata": {},
   "outputs": [],
   "source": [
    "def trim(str):\n",
    "    p = 0\n",
    "    while p<len(str) and str[p]==' ':\n",
    "        p+=1\n",
    "    return str[p:]"
   ]
  },
  {
   "cell_type": "code",
   "execution_count": 96,
   "id": "23efa2bd",
   "metadata": {},
   "outputs": [],
   "source": [
    "def subStrSpace(str):\n",
    "    p = 0\n",
    "    while p<len(str) and str[p]!=' ':\n",
    "        p+=1\n",
    "    return (str[0:p], str[p:])"
   ]
  },
  {
   "cell_type": "code",
   "execution_count": 97,
   "id": "fc24e03a",
   "metadata": {},
   "outputs": [],
   "source": [
    "def subStrDelim(str):\n",
    "    global delimiters, dfa\n",
    "    \n",
    "    lp = fp = 0\n",
    "    while lp<len(str):\n",
    "        if str[fp] in delimiters:\n",
    "            if lp!=fp:\n",
    "                dfa[0]((str[lp:fp]))\n",
    "            else:\n",
    "                fp+=1\n",
    "                printDelimToken(str[lp:fp])\n",
    "            lp = fp\n",
    "        else:\n",
    "            fp+=1\n",
    "            if fp==len(str):\n",
    "                dfa[0]((str[lp:fp]))\n",
    "                return"
   ]
  },
  {
   "cell_type": "code",
   "execution_count": 98,
   "id": "19099834",
   "metadata": {},
   "outputs": [
    {
     "name": "stdout",
     "output_type": "stream",
     "text": [
      "(1, 'Keyword', 'int')\n",
      "(14, 'Delimiter', '(')\n",
      "(15, 'Delimiter', ')')\n",
      "none\n",
      "none\n",
      "(10, 'Delimiter', '{')\n",
      "(11, 'Delimiter', '}')\n",
      "(16, 'Delimiter', ';')\n",
      "none\n",
      "(14, 'Delimiter', '(')\n",
      "(10, 'Delimiter', '{')\n",
      "(3, 'Keyword', 'boolean')\n",
      "(11, 'Delimiter', '}')\n",
      "(15, 'Delimiter', ')')\n",
      "(16, 'Delimiter', ';')\n"
     ]
    }
   ],
   "source": [
    "test = '  int () floa  tru{}; . ( { boolean }) ;  '\n",
    "copy = test[:]\n",
    "lenTest = len(test)\n",
    "\n",
    "while copy:\n",
    "    copy = trim(copy)\n",
    "    tokens = subStrSpace(copy)\n",
    "    subStrDelim(tokens[0])\n",
    "    copy = tokens[1]\n"
   ]
  }
 ],
 "metadata": {
  "kernelspec": {
   "display_name": "Python 3 (ipykernel)",
   "language": "python",
   "name": "python3"
  },
  "language_info": {
   "codemirror_mode": {
    "name": "ipython",
    "version": 3
   },
   "file_extension": ".py",
   "mimetype": "text/x-python",
   "name": "python",
   "nbconvert_exporter": "python",
   "pygments_lexer": "ipython3",
   "version": "3.10.2"
  }
 },
 "nbformat": 4,
 "nbformat_minor": 5
}
