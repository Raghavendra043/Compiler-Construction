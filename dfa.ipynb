{
 "cells": [
  {
   "cell_type": "code",
   "execution_count": 1,
   "metadata": {},
   "outputs": [],
   "source": [
    "NONE = 0b00000000\n",
    "EOF = -1\n",
    "SP_OR_COMM,KW,ID,OP,INT,FP,DEL,STR = 'sp_comm','k','id','op','int','fp','del','str'\n",
    "YES_SP_OR_COMM, YES_KW, YES_ID, YES_OP, YES_INT, YES_FP, YES_DEL, YES_STR = 0b10000000, 0b01000000, 0b00100000, 0b00010000, 0b00001000, 0b00000100, 0b00000010, 0b00000001"
   ]
  },
  {
   "cell_type": "code",
   "execution_count": 2,
   "metadata": {},
   "outputs": [],
   "source": [
    "charSet = [\n",
    "    'a','b','c','d','e','f','g','h','i','j','k','l','m','n','o','p','q','r','s','t','u','v','w','x','y','z',\n",
    "    'A','B','C','D','E','F','G','H','I','J','K','L','M','N','O','P','Q','R','S','T','U','V','W','X','Y','Z',\n",
    "    '0','1','2','3','4','5','6','7','8','9','_'\n",
    "]\n",
    "\n",
    "TokenNo = 0\n",
    "\n",
    "spOrCommToken = TokenNo\n",
    "TokenNo += 1\n",
    "\n",
    "keywords = ['int', 'float', 'boolean', 'string',\n",
    "            'while', 'until', 'if else', 'true', 'false']\n",
    "keywordEnm = list(enumerate(keywords, start=TokenNo))\n",
    "TokenNo += len(keywords)\n",
    "\n",
    "idToken = TokenNo\n",
    "TokenNo += 1\n",
    "\n",
    "operators = ['+', '-', '*', '/', '%', '?', '>', '<', '!', ':',\n",
    "            ':=', '==', '>=', '<=', '!=', '&&', '||']\n",
    "opEnm = list(enumerate(operators, start=TokenNo))\n",
    "TokenNo += len(operators)\n",
    "\n",
    "intToken = TokenNo\n",
    "TokenNo += 1\n",
    "\n",
    "fpToken = TokenNo\n",
    "TokenNo += 1\n",
    "\n",
    "delimiters = ['{', '}', '[', ']', '(', ')', ';', ',']\n",
    "delimEnm = list(enumerate(delimiters, start=TokenNo))\n",
    "TokenNo += len(delimiters)\n",
    "\n",
    "strToken = TokenNo\n",
    "TokenNo += 1"
   ]
  },
  {
   "cell_type": "code",
   "execution_count": 3,
   "metadata": {},
   "outputs": [],
   "source": [
    "def tokenNum(list, token):\n",
    "    for i in list:\n",
    "        if i[1] == token:\n",
    "            return i[0]\n",
    "    return -1"
   ]
  },
  {
   "cell_type": "code",
   "execution_count": 4,
   "metadata": {},
   "outputs": [],
   "source": [
    "def getNext():\n",
    "    return ''"
   ]
  },
  {
   "cell_type": "code",
   "execution_count": 5,
   "metadata": {},
   "outputs": [],
   "source": [
    "def util(str, fp, state, tokenNo):\n",
    "    return [str, fp, state, tokenNo]"
   ]
  },
  {
   "cell_type": "code",
   "execution_count": 76,
   "metadata": {},
   "outputs": [
    {
     "name": "stdout",
     "output_type": "stream",
     "text": [
      "('', 0, 0, -1)\n"
     ]
    }
   ],
   "source": [
    "def isKeyword(str):\n",
    "    fp = 0\n",
    "    try:\n",
    "        str[fp]\n",
    "        for kw in keywords:\n",
    "            if str[fp:len(kw)] == kw:\n",
    "                fp+=len(kw)\n",
    "                return (str[:fp], fp, YES_KW, tokenNum(keywordEnm, str[:fp]))\n",
    "        return ('', 0, 0b00000000, -1)\n",
    "\n",
    "    except(IndexError):\n",
    "        return ('', EOF, 0b00000000, -1)\n",
    "print(isKeyword(' +'))"
   ]
  },
  {
   "cell_type": "code",
   "execution_count": 41,
   "metadata": {},
   "outputs": [
    {
     "name": "stdout",
     "output_type": "stream",
     "text": [
      "('', -1, 0, -1)\n"
     ]
    }
   ],
   "source": [
    "def isDelimiter(str):\n",
    "    try:\n",
    "        if str[0] in delimiters:\n",
    "            return (str[0], 1, YES_DEL, tokenNum(delimEnm, str[0]))\n",
    "        return ('',0,NONE, -1)\n",
    "                \n",
    "    except(IndexError):\n",
    "        return ('', EOF, NONE, -1)\n",
    "print(isDelimiter(''))"
   ]
  },
  {
   "cell_type": "code",
   "execution_count": 40,
   "metadata": {},
   "outputs": [
    {
     "name": "stdout",
     "output_type": "stream",
     "text": [
      "('', -1, 0, -1)\n"
     ]
    }
   ],
   "source": [
    "def isOp(str):\n",
    "    state = OP\n",
    "    fp = 0\n",
    "    try:\n",
    "        while True:\n",
    "            if state == OP:\n",
    "                if str[fp] in operators[:6]:\n",
    "                    state = '1'\n",
    "                elif str[fp] == ':':\n",
    "                    state = ':'\n",
    "                elif str[fp] == '>':\n",
    "                    state = '>'\n",
    "                elif str[fp] == '<':\n",
    "                    state = '<'\n",
    "                elif str[fp] == '!':\n",
    "                    state = '!'\n",
    "                elif str[fp] == '=':\n",
    "                    state = '=='\n",
    "                elif str[fp] == '&':\n",
    "                    state = '&&'\n",
    "                elif str[fp] == '|':\n",
    "                    state = '||'\n",
    "                else:\n",
    "                    return ('', 0, NONE, -1)\n",
    "                fp+=1\n",
    "                \n",
    "            elif state == '1':\n",
    "                return (str[:fp], fp, YES_OP, tokenNum(opEnm, str[:fp]))\n",
    "            \n",
    "            elif state==':' or state=='>' or state=='<' or state=='!':\n",
    "                try:\n",
    "                    if str[fp] == '=':\n",
    "                        fp+=1\n",
    "                        return (str[:fp], fp, YES_OP, tokenNum(opEnm, str[:fp]))\n",
    "                except(IndexError):\n",
    "                    return (str[:fp], fp, YES_OP, tokenNum(opEnm, str[:fp]))\n",
    "            \n",
    "            elif state == '==':\n",
    "                if str[fp] == '=':\n",
    "                    fp+=1\n",
    "                    return (str[:fp], fp, YES_OP, tokenNum(opEnm, str[:fp]))\n",
    "                else:\n",
    "                    return ('', 0, NONE, -1)\n",
    "                \n",
    "            elif state == '&&':\n",
    "                if str[fp] == '&':\n",
    "                    fp+=1\n",
    "                    return (str[:fp], fp, YES_OP, tokenNum(opEnm, str[:fp]))\n",
    "                else:\n",
    "                    return ('', 0, NONE, -1)\n",
    "                \n",
    "            elif state == '||':\n",
    "                if str[fp] == '|':\n",
    "                    fp+=1\n",
    "                    return (str[:fp], fp, YES_OP, tokenNum(opEnm, str[:fp]))\n",
    "                else:\n",
    "                    return ('', 0, NONE, -1)\n",
    "                \n",
    "    except(IndexError):\n",
    "        return ('', EOF, NONE, -1)\n",
    "print(isOp(''))"
   ]
  },
  {
   "cell_type": "code",
   "execution_count": 79,
   "metadata": {},
   "outputs": [
    {
     "name": "stdout",
     "output_type": "stream",
     "text": [
      "True\n"
     ]
    }
   ],
   "source": [
    "print(True == 1)"
   ]
  },
  {
   "cell_type": "code",
   "execution_count": 39,
   "metadata": {},
   "outputs": [
    {
     "name": "stdout",
     "output_type": "stream",
     "text": [
      "('', -1, 0, -1)\n"
     ]
    }
   ],
   "source": [
    "def isId(str):\n",
    "    state = ID\n",
    "    fp = 0\n",
    "    try:\n",
    "        while True:\n",
    "            if state == ID:\n",
    "                if str[fp] in charSet[:26]:\n",
    "                    state = 'final'\n",
    "                    fp+=1\n",
    "                else:\n",
    "                    return ('', fp, NONE, -1)\n",
    "            \n",
    "            elif state == 'final':\n",
    "                try:\n",
    "                    if str[fp] in charSet:\n",
    "                        state = 'final'\n",
    "                        fp+=1\n",
    "                    else:\n",
    "                        return (str[:fp], fp, YES_ID, idToken)\n",
    "                except(IndexError):\n",
    "                    return (str[:fp], fp, YES_ID, idToken)\n",
    "    \n",
    "    except(IndexError):\n",
    "        return ('', EOF, NONE, -1)    \n",
    "\n",
    "print(isId(''))"
   ]
  },
  {
   "cell_type": "code",
   "execution_count": 38,
   "metadata": {},
   "outputs": [
    {
     "name": "stdout",
     "output_type": "stream",
     "text": [
      "('', -1, 0, -1)\n"
     ]
    }
   ],
   "source": [
    "def isInt(str):\n",
    "    state = INT\n",
    "    fp = 0\n",
    "    try:\n",
    "        while True:\n",
    "            if state == INT:\n",
    "                if str[fp]=='+' or str[fp]=='-':\n",
    "                    state = '1'\n",
    "                    fp+=1\n",
    "                elif str[fp] in charSet[53:62]:\n",
    "                    state = '2'\n",
    "                    fp+=1\n",
    "                elif str[fp] == '0':\n",
    "                    state = '3'\n",
    "                    fp+=1\n",
    "                else:\n",
    "                    return ('', fp, NONE, -1)\n",
    "            \n",
    "            elif state == '1':\n",
    "                if str[fp] in charSet[53:62]:\n",
    "                    state = '2'\n",
    "                    fp+=1\n",
    "                else:\n",
    "                    return ('', fp, NONE, -1)\n",
    "            \n",
    "            elif state == '2':\n",
    "                try:\n",
    "                    if str[fp] in charSet[52:62]:\n",
    "                        state = '2'\n",
    "                        fp+=1\n",
    "                    else:\n",
    "                        return (str[:fp], fp, YES_INT, intToken)\n",
    "                except(IndexError):\n",
    "                    return (str[:fp], fp, YES_INT, intToken)\n",
    "        \n",
    "            elif state == '3':\n",
    "                try:\n",
    "                    if str[fp] == '0':\n",
    "                        state = '3'\n",
    "                        fp+=1\n",
    "                    elif str[fp] in charSet[53:62]:\n",
    "                        state = '4'\n",
    "                        fp+=1\n",
    "                    else:\n",
    "                        return (str[:fp], fp, YES_INT, intToken)\n",
    "                except(IndexError):\n",
    "                    return (str[:fp], fp, YES_INT, intToken)\n",
    "                \n",
    "            elif state == '4':\n",
    "                return ('', fp, NONE, -1)\n",
    "            \n",
    "    except(IndexError):\n",
    "        return ('', EOF, NONE, -1)\n",
    "print(isInt(''))"
   ]
  },
  {
   "cell_type": "code",
   "execution_count": 44,
   "metadata": {},
   "outputs": [
    {
     "name": "stdout",
     "output_type": "stream",
     "text": [
      "('', -1, 0, -1)\n"
     ]
    }
   ],
   "source": [
    "def isFP(str):\n",
    "    state = FP\n",
    "    fp = 0\n",
    "    try:\n",
    "        while True:\n",
    "            if state == FP:\n",
    "                if str[fp] == '+' or str[fp] == '-':\n",
    "                    state = '1'\n",
    "                    fp += 1\n",
    "                elif str[fp] in charSet[53:62]:\n",
    "                    state = '2'\n",
    "                    fp += 1\n",
    "                elif str[fp] == '0':\n",
    "                    state = '6'\n",
    "                    fp += 1\n",
    "                else:\n",
    "                    return ('', fp, NONE, -1)\n",
    "\n",
    "            elif state == '1':\n",
    "                if str[fp] in charSet[53:62]:\n",
    "                    state = '2'\n",
    "                    fp += 1\n",
    "                elif str[fp] == '0':\n",
    "                    state = '8'\n",
    "                    fp+=1\n",
    "                else:\n",
    "                    return ('', fp, NONE, -1)\n",
    "\n",
    "            elif state == '2':\n",
    "                if str[fp] in charSet[52:62]:\n",
    "                    state = '2'\n",
    "                    fp += 1\n",
    "                elif str[fp] == '.':\n",
    "                    state = '3'\n",
    "                    fp+=1\n",
    "                else:\n",
    "                    return ('', fp, NONE, -1)\n",
    "\n",
    "            elif state == '3':\n",
    "                if str[fp] == '0':\n",
    "                    state = '4'\n",
    "                    fp += 1\n",
    "                elif str[fp] in charSet[53:62]:\n",
    "                    state = '5'\n",
    "                    fp+=1\n",
    "                else:\n",
    "                    return ('', fp, NONE, -1)\n",
    "            \n",
    "            elif state == '4':\n",
    "                if str[fp] in charSet[53:62]:\n",
    "                    state = '5'\n",
    "                    fp+=1\n",
    "                elif str[fp] == '0':\n",
    "                    state = '4'\n",
    "                    fp+=1\n",
    "                else:\n",
    "                    return ('', fp, NONE, -1)\n",
    "\n",
    "            elif state == '5':\n",
    "                try:\n",
    "                    if str[fp] in charSet[52:62]:\n",
    "                        state = '5'\n",
    "                        fp+=1\n",
    "                    else:\n",
    "                        return (str[:fp], fp, YES_FP, fpToken)\n",
    "                except(IndexError):\n",
    "                    return (str[:fp], fp, YES_FP, fpToken)\n",
    "        \n",
    "            elif state == '6':\n",
    "                if str[fp] == '.':\n",
    "                    state = '7'\n",
    "                    fp+=1\n",
    "                else:\n",
    "                    return ('', fp, NONE, -1)\n",
    "                \n",
    "            elif state == '7':\n",
    "                if str[fp] in charSet[52:62]:\n",
    "                    state = '5'\n",
    "                    fp+=1\n",
    "                else:\n",
    "                    return ('', fp, NONE, -1)\n",
    "                \n",
    "            elif state == '8':\n",
    "                if str[fp] == '.':\n",
    "                    state = '3'\n",
    "                    fp+=1\n",
    "                else:\n",
    "                    return ('', fp, NONE, -1)\n",
    "    except(IndexError):\n",
    "        return ('', EOF, NONE, -1)\n",
    "\n",
    "print(isFP(''))"
   ]
  },
  {
   "cell_type": "code",
   "execution_count": 57,
   "metadata": {},
   "outputs": [
    {
     "name": "stdout",
     "output_type": "stream",
     "text": [
      "\"4+2\n",
      "\n",
      "('', 4, 0, -1)\n"
     ]
    }
   ],
   "source": [
    "def isStr(str):\n",
    "    state = STR\n",
    "    fp = 0\n",
    "    try:\n",
    "        while True:\n",
    "            if state == STR:\n",
    "                if str[fp] == '\"':\n",
    "                    state = '1'\n",
    "                    fp+=1\n",
    "                else:\n",
    "                    return ('', fp, NONE, -1)\n",
    "            \n",
    "            elif state == '1':\n",
    "                if str[fp] == '\\\\':\n",
    "                    state = '3'\n",
    "                    fp+=1\n",
    "                elif str[fp] == '\"':\n",
    "                    state = '2'\n",
    "                    fp+=1\n",
    "                elif str[fp] not in ['\\n', '\\r', '\\\\', '\"']:\n",
    "                    state = '1'\n",
    "                    fp+=1\n",
    "                else:\n",
    "                    return ('', fp, NONE, -1)\n",
    "                    \n",
    "            elif state == '2':\n",
    "                return (str[:fp], fp, YES_STR, strToken)\n",
    "            \n",
    "            elif state == '3':\n",
    "                if str[fp] in ['\\\\','n','r','\"','t']:\n",
    "                    state = '1'\n",
    "                    fp+=1\n",
    "                else:\n",
    "                    return ('', fp, NONE, -1)\n",
    "\n",
    "    except(IndexError)            :\n",
    "        return ('', EOF, NONE, -1)\n",
    "\n",
    "with open('test2.txt', 'r') as f:\n",
    "    x = f.read()\n",
    "    print(x)\n",
    "    print(isStr(x))\n"
   ]
  },
  {
   "cell_type": "code",
   "execution_count": 60,
   "metadata": {},
   "outputs": [
    {
     "name": "stdout",
     "output_type": "stream",
     "text": [
      "('', 4, 128, 2)\n"
     ]
    }
   ],
   "source": [
    "def isSpaceOrComm(str):\n",
    "    state = SP_OR_COMM\n",
    "    fp = 0\n",
    "    lines = 0\n",
    "    try:\n",
    "        while True:\n",
    "            if state == SP_OR_COMM:\n",
    "                if str[fp] in [' ', '\\n', '\\t', '\\r']:\n",
    "                    if str[fp] == '\\n':\n",
    "                        lines+=1\n",
    "                    state = 'sp'\n",
    "                    fp+=1\n",
    "                elif str[fp] == '#':\n",
    "                    state = 'comm'\n",
    "                    fp+=1\n",
    "                else:\n",
    "                    return ('', fp, NONE, -1)\n",
    "            \n",
    "            elif state == 'sp':\n",
    "                try:\n",
    "                    if str[fp] in [' ', '\\n', '\\t', '\\r']:\n",
    "                        if str[fp] == '\\n':\n",
    "                            lines+=1\n",
    "                        state = 'sp'\n",
    "                        fp+=1\n",
    "                    else:\n",
    "                        return ('', fp, YES_SP_OR_COMM, lines)\n",
    "                except(IndexError):\n",
    "                    return ('', fp, YES_SP_OR_COMM, lines)\n",
    "            \n",
    "            elif state == 'comm':\n",
    "                try:\n",
    "                    if str[fp] != '\\n':\n",
    "                        state = 'comm'\n",
    "                        fp+=1\n",
    "                    else:\n",
    "                        fp+=1\n",
    "                        lines+=1\n",
    "                        return ('', fp, YES_SP_OR_COMM, lines)\n",
    "                except(IndexError):\n",
    "                    return ('', fp, YES_SP_OR_COMM, lines)\n",
    "                \n",
    "    except(IndexError):\n",
    "        return ('', EOF, NONE, -1)\n",
    "            \n",
    "print(isSpaceOrComm('\\n\\n  '))"
   ]
  },
  {
   "cell_type": "code",
   "execution_count": 69,
   "metadata": {},
   "outputs": [
    {
     "name": "stdout",
     "output_type": "stream",
     "text": [
      "\n"
     ]
    }
   ],
   "source": [
    "x = 'aefnvdjs'\n",
    "print(x[123:232])"
   ]
  },
  {
   "cell_type": "code",
   "execution_count": 14,
   "metadata": {},
   "outputs": [],
   "source": [
    "def panic_mode(str):\n",
    "    fp = 0\n",
    "    while True:\n",
    "        try:\n",
    "            if str[fp] == '\\n':\n",
    "                return fp+1\n",
    "            else:\n",
    "                fp+=1\n",
    "        except(IndexError):\n",
    "            exit()"
   ]
  },
  {
   "cell_type": "code",
   "execution_count": 15,
   "metadata": {},
   "outputs": [],
   "source": [
    "def binUtil(str):\n",
    "    str = bin(str)[2:]\n",
    "    if len(str) < 8:\n",
    "        for i in range(8-len(str)):\n",
    "            str = '0' + str\n",
    "    return str"
   ]
  },
  {
   "cell_type": "code",
   "execution_count": 74,
   "metadata": {},
   "outputs": [
    {
     "name": "stdout",
     "output_type": "stream",
     "text": [
      "1 ('int', 3, 64, 1)\n",
      "2 ('+', 1, 16, 11)\n",
      "3 ('}', 1, 2, 31)\n"
     ]
    },
    {
     "ename": "KeyboardInterrupt",
     "evalue": "",
     "output_type": "error",
     "traceback": [
      "\u001b[1;31m---------------------------------------------------------------------------\u001b[0m",
      "\u001b[1;31mKeyboardInterrupt\u001b[0m                         Traceback (most recent call last)",
      "\u001b[1;32mc:\\Users\\1211a\\OneDrive\\Desktop\\Compiler-Construction\\dfa.ipynb Cell 17'\u001b[0m in \u001b[0;36m<module>\u001b[1;34m\u001b[0m\n\u001b[0;32m     <a href='vscode-notebook-cell:/c%3A/Users/1211a/OneDrive/Desktop/Compiler-Construction/dfa.ipynb#ch0000016?line=60'>61</a>\u001b[0m                 \u001b[39mif\u001b[39;00m final[\u001b[39m2\u001b[39m] \u001b[39m!=\u001b[39m \u001b[39m0b10000000\u001b[39m:\n\u001b[0;32m     <a href='vscode-notebook-cell:/c%3A/Users/1211a/OneDrive/Desktop/Compiler-Construction/dfa.ipynb#ch0000016?line=61'>62</a>\u001b[0m                     \u001b[39mprint\u001b[39m(lineNo, final)\n\u001b[1;32m---> <a href='vscode-notebook-cell:/c%3A/Users/1211a/OneDrive/Desktop/Compiler-Construction/dfa.ipynb#ch0000016?line=63'>64</a>\u001b[0m dfa()\n",
      "\u001b[1;32mc:\\Users\\1211a\\OneDrive\\Desktop\\Compiler-Construction\\dfa.ipynb Cell 17'\u001b[0m in \u001b[0;36mdfa\u001b[1;34m()\u001b[0m\n\u001b[0;32m     <a href='vscode-notebook-cell:/c%3A/Users/1211a/OneDrive/Desktop/Compiler-Construction/dfa.ipynb#ch0000016?line=18'>19</a>\u001b[0m tokens, state, final \u001b[39m=\u001b[39m [], \u001b[39m0b00000000\u001b[39m, \u001b[39mNone\u001b[39;00m\n\u001b[0;32m     <a href='vscode-notebook-cell:/c%3A/Users/1211a/OneDrive/Desktop/Compiler-Construction/dfa.ipynb#ch0000016?line=19'>20</a>\u001b[0m \u001b[39mfor\u001b[39;00m i \u001b[39min\u001b[39;00m \u001b[39mrange\u001b[39m(\u001b[39m8\u001b[39m):\n\u001b[1;32m---> <a href='vscode-notebook-cell:/c%3A/Users/1211a/OneDrive/Desktop/Compiler-Construction/dfa.ipynb#ch0000016?line=20'>21</a>\u001b[0m     tokens\u001b[39m.\u001b[39;49mappend(TokenNames[i][\u001b[39m1\u001b[39;49m](codex))\n\u001b[0;32m     <a href='vscode-notebook-cell:/c%3A/Users/1211a/OneDrive/Desktop/Compiler-Construction/dfa.ipynb#ch0000016?line=21'>22</a>\u001b[0m     state \u001b[39m|\u001b[39m\u001b[39m=\u001b[39m tokens[i][\u001b[39m2\u001b[39m]\n\u001b[0;32m     <a href='vscode-notebook-cell:/c%3A/Users/1211a/OneDrive/Desktop/Compiler-Construction/dfa.ipynb#ch0000016?line=23'>24</a>\u001b[0m state \u001b[39m=\u001b[39m binUtil(state)\n",
      "\u001b[1;31mKeyboardInterrupt\u001b[0m: "
     ]
    }
   ],
   "source": [
    "IND_SP_COMM, IND_KW, IND_ID, IND_OP, IND_INT, IND_FP, IND_DEL, IND_STR = 0, 1, 2, 3, 4, 5, 6, 7\n",
    "\n",
    "TokenNames = {\n",
    "    IND_SP_COMM: ['Space / Comment', isSpaceOrComm],\n",
    "    IND_KW: ['Keyword', isKeyword],\n",
    "    IND_ID: ['Identifier', isId],\n",
    "    IND_OP: ['Operator', isOp],\n",
    "    IND_INT: ['Integer Literal', isInt],\n",
    "    IND_FP: ['Floating Point Literal', isFP],\n",
    "    IND_DEL: ['Delimiter', isDelimiter],\n",
    "    IND_STR: ['String Literal', isStr]\n",
    "}\n",
    "def dfa():\n",
    "    lp = 0\n",
    "    with open('test2.txt', 'r') as f:\n",
    "        codex = f.read()\n",
    "        lineNo = 1\n",
    "        while not EOF:\n",
    "            tokens, state, final = [], 0b00000000, None\n",
    "            for i in range(8):\n",
    "                tokens.append(TokenNames[i][1](codex))\n",
    "                state |= tokens[i][2]\n",
    "                \n",
    "\n",
    "            state = binUtil(state)\n",
    "            \n",
    "            if state[IND_KW]=='1' and state[IND_ID]=='1':\n",
    "                if tokens[IND_KW][1] >= tokens[IND_ID][1]:\n",
    "                    final = tokens[IND_KW]\n",
    "                else:\n",
    "                    final = tokens[IND_ID]\n",
    "            \n",
    "            elif state[IND_INT] == '1' and state[IND_FP] == '1' and state[IND_OP] == '1':\n",
    "                final = tokens[IND_OP]\n",
    "                \n",
    "            elif state[IND_INT] == '0' and state[IND_FP] == '1' and state[IND_OP] == '1':\n",
    "                final = tokens[IND_OP]\n",
    "                \n",
    "            elif state[IND_INT] == '1' and state[IND_FP] == '0' and state[IND_OP] == '1':\n",
    "                final = tokens[IND_OP]\n",
    "                \n",
    "            elif state[IND_INT] == '1' and state[IND_FP] == '1' and state[IND_OP] == '0':\n",
    "                final = tokens[IND_FP]\n",
    "                \n",
    "            elif state == '00000000':\n",
    "                \n",
    "            \n",
    "            else:\n",
    "                for index in range(8):\n",
    "                    if state[index] == '1':\n",
    "                        if index == IND_SP_COMM:\n",
    "                            lineNo += tokens[index][3]\n",
    "                        final = tokens[index]\n",
    "                        break\n",
    "            \n",
    "            if final==None:\n",
    "                lp = panic_mode(codex)\n",
    "                codex = codex[lp:]\n",
    "                lineNo += 1\n",
    "            elif final[1]==EOF:\n",
    "                break\n",
    "            else:\n",
    "                lp = final[1]\n",
    "                codex = codex[lp:]\n",
    "                if final[2] != 0b10000000:\n",
    "                    print(lineNo, final)\n",
    "\n",
    "dfa()"
   ]
  }
 ],
 "metadata": {
  "interpreter": {
   "hash": "5f21cdc2c17373e7ea18ce2d57b280ba91422f959b4e033eaa6a93a540a3628a"
  },
  "kernelspec": {
   "display_name": "Python 3.10.2 64-bit",
   "language": "python",
   "name": "python3"
  },
  "language_info": {
   "codemirror_mode": {
    "name": "ipython",
    "version": 3
   },
   "file_extension": ".py",
   "mimetype": "text/x-python",
   "name": "python",
   "nbconvert_exporter": "python",
   "pygments_lexer": "ipython3",
   "version": "3.10.2"
  },
  "orig_nbformat": 4
 },
 "nbformat": 4,
 "nbformat_minor": 2
}
