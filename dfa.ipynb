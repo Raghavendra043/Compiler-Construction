{
 "cells": [
  {
   "cell_type": "code",
   "execution_count": 40,
   "metadata": {},
   "outputs": [],
   "source": [
    "START = 0\n",
    "KW,OP,DEL,ID,INT,FP,STR = 1,2,3,4,5,6,7\n",
    "YES_KW,YES_OP,YES_DEL,YES_ID,YES_INT,YES_FP,YES_STR = 101,102,103,104,105,106,107\n"
   ]
  },
  {
   "cell_type": "code",
   "execution_count": null,
   "metadata": {},
   "outputs": [],
   "source": [
    "Tokens = {\n",
    "    'keyword': 'Keyword',\n",
    "    'op': 'Operator',\n",
    "    'delim': 'Delimiter',\n",
    "    'id': 'Identifier',\n",
    "    'int': 'Integer Literal',\n",
    "    'fp': 'Floating Point Literal',\n",
    "    'str': 'String Literal'\n",
    "}\n",
    "\n",
    "charSet = [\n",
    "    'a','b','c','d','e','f','g','h','i','j','k','l','m','n','o','p','q','r','s','t','u','v','w','x','y','z',\n",
    "    'A','B','C','D','E','F','G','H','I','J','K','L','M','N','O','P','Q','R','S','T','U','V','W','X','Y','Z',\n",
    "    '0','1','2','3','4','5','6','7','8','9','_'\n",
    "]\n",
    "\n",
    "TokenNo = 1\n",
    "\n",
    "keywords = ['int', 'float', 'boolean', 'string',\n",
    "            'while', 'until', 'if else', 'true', 'false']\n",
    "keywordEnm = list(enumerate(keywords, start=TokenNo))\n",
    "TokenNo += len(keywords)\n",
    "\n",
    "delimiters = ['{', '}', '[', ']', '(', ')', ';', ',']\n",
    "delimEnm = list(enumerate(delimiters, start=TokenNo))\n",
    "TokenNo += len(delimiters)\n"
   ]
  },
  {
   "cell_type": "code",
   "execution_count": null,
   "metadata": {},
   "outputs": [],
   "source": [
    "def getNext():\n",
    "    return ''"
   ]
  },
  {
   "cell_type": "code",
   "execution_count": null,
   "metadata": {},
   "outputs": [],
   "source": [
    "def subStrMatch(str, fp, list):\n",
    "    if str[0:fp] in list:\n",
    "        return True\n",
    "    else:\n",
    "        return False"
   ]
  },
  {
   "cell_type": "code",
   "execution_count": 50,
   "metadata": {},
   "outputs": [],
   "source": [
    "def util1(str, fp, state):\n",
    "    return [str, fp, state]"
   ]
  },
  {
   "cell_type": "code",
   "execution_count": 59,
   "metadata": {},
   "outputs": [
    {
     "name": "stdout",
     "output_type": "stream",
     "text": [
      "['int', 3, 101]\n"
     ]
    }
   ],
   "source": [
    "def isKeyword(str):\n",
    "    fp = 0\n",
    "    while fp<=len(str):\n",
    "        if fp==len(str) or str[fp] not in charSet:\n",
    "            if subStrMatch(str,fp,keywords):\n",
    "                return util1(str[0:fp],fp,YES_KW)\n",
    "            else:\n",
    "                return util1('',fp,-1)\n",
    "        else:\n",
    "            fp+=1\n",
    "\n",
    "print(isKeyword('int'))"
   ]
  },
  {
   "cell_type": "code",
   "execution_count": 52,
   "metadata": {},
   "outputs": [
    {
     "name": "stdout",
     "output_type": "stream",
     "text": [
      "['{', 1, 103]\n"
     ]
    }
   ],
   "source": [
    "def isDelimiter(str):\n",
    "    if str[0] in delimiters:\n",
    "        return util1(str[0],1,YES_DEL)\n",
    "    else:\n",
    "        return util1('',1,-1)\n",
    "\n",
    "print(isDelimiter('{'))"
   ]
  },
  {
   "cell_type": "code",
   "execution_count": null,
   "metadata": {},
   "outputs": [],
   "source": [
    "def isOp(str):\n",
    "    return"
   ]
  },
  {
   "cell_type": "code",
   "execution_count": null,
   "metadata": {},
   "outputs": [],
   "source": [
    "def isId(str):\n",
    "    return"
   ]
  },
  {
   "cell_type": "code",
   "execution_count": null,
   "metadata": {},
   "outputs": [],
   "source": [
    "def isInt(str):\n",
    "    return\n"
   ]
  },
  {
   "cell_type": "code",
   "execution_count": null,
   "metadata": {},
   "outputs": [],
   "source": [
    "def isFP(str):\n",
    "    return\n"
   ]
  },
  {
   "cell_type": "code",
   "execution_count": null,
   "metadata": {},
   "outputs": [],
   "source": [
    "def isStr(str):\n",
    "    return\n"
   ]
  },
  {
   "cell_type": "code",
   "execution_count": 58,
   "metadata": {},
   "outputs": [
    {
     "name": "stdout",
     "output_type": "stream",
     "text": [
      "['int', 3, 101]\n"
     ]
    }
   ],
   "source": [
    "def dfa(str):\n",
    "    state = START\n",
    "    results = []\n",
    "    # c = getNext()\n",
    "    results.append(isKeyword(str))\n",
    "    # results.append(isOp(str))\n",
    "    results.append(isDelimiter(str))\n",
    "    # results.append(isId(str))\n",
    "    # results.append(isInt(str))\n",
    "    # results.append(isFP(str))\n",
    "    # results.append(isStr(str))\n",
    "\n",
    "    max = ['',-1,-1]\n",
    "    for tok in results:\n",
    "        if tok[2]!=-1 and len(tok[0]) > len(max[0]):\n",
    "            max = tok\n",
    "    print(max)\n",
    "\n",
    "dfa('int{')\n",
    "    "
   ]
  }
 ],
 "metadata": {
  "interpreter": {
   "hash": "5f21cdc2c17373e7ea18ce2d57b280ba91422f959b4e033eaa6a93a540a3628a"
  },
  "kernelspec": {
   "display_name": "Python 3.10.2 64-bit",
   "language": "python",
   "name": "python3"
  },
  "language_info": {
   "codemirror_mode": {
    "name": "ipython",
    "version": 3
   },
   "file_extension": ".py",
   "mimetype": "text/x-python",
   "name": "python",
   "nbconvert_exporter": "python",
   "pygments_lexer": "ipython3",
   "version": "3.10.2"
  },
  "orig_nbformat": 4
 },
 "nbformat": 4,
 "nbformat_minor": 2
}
