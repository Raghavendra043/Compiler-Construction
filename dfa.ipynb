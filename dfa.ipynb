{
 "cells": [
  {
   "cell_type": "code",
   "execution_count": 1,
   "metadata": {},
   "outputs": [],
   "source": [
    "NONE = 0b00000000\n",
    "EOF = -1\n",
    "SP_OR_COMM,KW,ID,OP,INT,FP,DEL,STR = 'sp_comm','k','id','op','int','fp','del','str'\n",
    "YES_SP_OR_COMM, YES_KW, YES_ID, YES_OP, YES_INT, YES_FP, YES_DEL, YES_STR = 0b10000000, 0b01000000, 0b00100000, 0b00010000, 0b00001000, 0b00000100, 0b00000010, 0b00000001"
   ]
  },
  {
   "cell_type": "code",
   "execution_count": 2,
   "metadata": {},
   "outputs": [],
   "source": [
    "charSet = [\n",
    "    'a','b','c','d','e','f','g','h','i','j','k','l','m','n','o','p','q','r','s','t','u','v','w','x','y','z',\n",
    "    'A','B','C','D','E','F','G','H','I','J','K','L','M','N','O','P','Q','R','S','T','U','V','W','X','Y','Z',\n",
    "    '0','1','2','3','4','5','6','7','8','9','_'\n",
    "]\n",
    "\n",
    "TokenNo = 1\n",
    "\n",
    "keywords = ['int', 'float', 'boolean', 'string',\n",
    "            'while', 'until', 'if else', 'true', 'false']\n",
    "keywordEnm = list(enumerate(keywords, start=TokenNo))\n",
    "TokenNo += len(keywords)\n",
    "\n",
    "delimiters = ['{', '}', '[', ']', '(', ')', ';', ',']\n",
    "delimEnm = list(enumerate(delimiters, start=TokenNo))\n",
    "TokenNo += len(delimiters)\n",
    "\n",
    "operators = ['+', '-', '*', '/', '%', '?', '>', '<', '!', ':',\n",
    "            ':=', '==', '>=', '<=', '!=', '&&', '||']\n",
    "opEnm = list(enumerate(operators, start=TokenNo))\n",
    "TokenNo += len(operators)"
   ]
  },
  {
   "cell_type": "code",
   "execution_count": 3,
   "metadata": {},
   "outputs": [],
   "source": [
    "def getNext():\n",
    "    return ''"
   ]
  },
  {
   "cell_type": "code",
   "execution_count": 4,
   "metadata": {},
   "outputs": [],
   "source": [
    "def util(str, fp, state):\n",
    "    return [str, fp, state]"
   ]
  },
  {
   "cell_type": "code",
   "execution_count": 5,
   "metadata": {},
   "outputs": [
    {
     "data": {
      "text/plain": [
       "''"
      ]
     },
     "execution_count": 5,
     "metadata": {},
     "output_type": "execute_result"
    }
   ],
   "source": [
    "s = \"op\"\n",
    "s[0:0]"
   ]
  },
  {
   "cell_type": "code",
   "execution_count": 6,
   "metadata": {},
   "outputs": [
    {
     "name": "stdout",
     "output_type": "stream",
     "text": [
      "['', 0, 0]\n"
     ]
    }
   ],
   "source": [
    "def isKeyword(str):\n",
    "    fp = 0\n",
    "    try:\n",
    "        str[fp]\n",
    "        for kw in keywords:\n",
    "            if str[fp:len(kw)] == kw:\n",
    "                fp+=len(kw)\n",
    "                return util(str[:fp], fp, YES_KW)\n",
    "        return util('', fp, 0b00000000)\n",
    "\n",
    "    except(IndexError):\n",
    "        return util('', EOF, 0b00000000)\n",
    "print(isKeyword('i'))"
   ]
  },
  {
   "cell_type": "code",
   "execution_count": 7,
   "metadata": {},
   "outputs": [],
   "source": [
    "# with open('test2.txt', 'r') as o:\n",
    "#     d = o.read()\n",
    "#     print(len(d), d[3])"
   ]
  },
  {
   "cell_type": "code",
   "execution_count": 8,
   "metadata": {},
   "outputs": [
    {
     "name": "stdout",
     "output_type": "stream",
     "text": [
      "['', -1, 0]\n"
     ]
    }
   ],
   "source": [
    "def isDelimiter(str):\n",
    "    try:\n",
    "        if str[0] in delimiters:\n",
    "            return util(str[0],1,YES_DEL)\n",
    "        else:\n",
    "            return util('',1,NONE)\n",
    "\n",
    "    except(IndexError):\n",
    "        return util('', EOF, NONE)\n",
    "print(isDelimiter(''))"
   ]
  },
  {
   "cell_type": "code",
   "execution_count": 9,
   "metadata": {},
   "outputs": [
    {
     "name": "stdout",
     "output_type": "stream",
     "text": [
      "['', -1, 0]\n"
     ]
    }
   ],
   "source": [
    "def isOp(str):\n",
    "    state = OP\n",
    "    fp = 0\n",
    "    try:\n",
    "        while True:\n",
    "            if state == OP:\n",
    "                if str[fp] in operators[:6]:\n",
    "                    state = '1'\n",
    "                elif str[fp] == ':':\n",
    "                    state = ':'\n",
    "                elif str[fp] == '>':\n",
    "                    state = '>'\n",
    "                elif str[fp] == '<':\n",
    "                    state = '<'\n",
    "                elif str[fp] == '!':\n",
    "                    state = '!'\n",
    "                elif str[fp] == '=':\n",
    "                    state = '=='\n",
    "                elif str[fp] == '&':\n",
    "                    state = '&&'\n",
    "                elif str[fp] == '|':\n",
    "                    state = '||'\n",
    "                else:\n",
    "                    return util('', fp, NONE)\n",
    "                fp+=1\n",
    "                \n",
    "            elif state == '1':\n",
    "                return util(str[:fp], fp, YES_OP)\n",
    "            \n",
    "            elif state==':' or state=='>' or state=='<' or state=='!':\n",
    "                try:\n",
    "                    if str[fp] == '=':\n",
    "                        fp+=1\n",
    "                        return util(str[:fp], fp, YES_OP)\n",
    "                except(IndexError):\n",
    "                    return util(str[:fp], fp, YES_OP)\n",
    "            \n",
    "            elif state == '==':\n",
    "                if str[fp] == '=':\n",
    "                    fp+=1\n",
    "                    return util(str[:fp], fp, YES_OP)\n",
    "                else:\n",
    "                    return util('', fp, NONE)\n",
    "                \n",
    "            elif state == '&&':\n",
    "                if str[fp] == '&':\n",
    "                    fp+=1\n",
    "                    return util(str[:fp], fp, YES_OP)\n",
    "                else:\n",
    "                    return util('', fp, NONE)\n",
    "                \n",
    "            elif state == '||':\n",
    "                if str[fp] == '|':\n",
    "                    fp+=1\n",
    "                    return util(str[:fp], fp, YES_OP)\n",
    "                else:\n",
    "                    return util('', fp, NONE)\n",
    "                \n",
    "    except(IndexError):\n",
    "        return util('', EOF, NONE)\n",
    "print(isOp(''))"
   ]
  },
  {
   "cell_type": "code",
   "execution_count": 10,
   "metadata": {},
   "outputs": [
    {
     "name": "stdout",
     "output_type": "stream",
     "text": [
      "['', -1, 0]\n"
     ]
    }
   ],
   "source": [
    "def isId(str):\n",
    "    state = ID\n",
    "    fp = 0\n",
    "    try:\n",
    "        while True:\n",
    "            if state == ID:\n",
    "                if str[fp] in charSet[:26]:\n",
    "                    state = 'final'\n",
    "                    fp+=1\n",
    "                else:\n",
    "                    return util('', fp, NONE)\n",
    "            \n",
    "            elif state == 'final':\n",
    "                try:\n",
    "                    if str[fp] in charSet:\n",
    "                        state = 'final'\n",
    "                        fp+=1\n",
    "                    else:\n",
    "                        return util(str[:fp], fp, YES_ID)\n",
    "                except(IndexError):\n",
    "                    return util(str[:fp], EOF, YES_ID)\n",
    "    \n",
    "    except(IndexError):\n",
    "        return util('', EOF, NONE)    \n",
    "\n",
    "print(isId(''))"
   ]
  },
  {
   "cell_type": "code",
   "execution_count": 11,
   "metadata": {},
   "outputs": [
    {
     "name": "stdout",
     "output_type": "stream",
     "text": [
      "['', -1, 0]\n"
     ]
    }
   ],
   "source": [
    "def isInt(str):\n",
    "    state = INT\n",
    "    fp = 0\n",
    "    try:\n",
    "        while True:\n",
    "            if state == INT:\n",
    "                if str[fp]=='+' or str[fp]=='-':\n",
    "                    state = '1'\n",
    "                    fp+=1\n",
    "                elif str[fp] in charSet[53:62]:\n",
    "                    state = '2'\n",
    "                    fp+=1\n",
    "                elif str[fp] == '0':\n",
    "                    state = '3'\n",
    "                    fp+=1\n",
    "                else:\n",
    "                    return util('', fp, NONE)\n",
    "            \n",
    "            elif state == '1':\n",
    "                if str[fp] in charSet[53:62]:\n",
    "                    state = '2'\n",
    "                    fp+=1\n",
    "                else:\n",
    "                    return util('', fp, NONE)\n",
    "            \n",
    "            elif state == '2':\n",
    "                try:\n",
    "                    if str[fp] in charSet[52:62]:\n",
    "                        state = '2'\n",
    "                        fp+=1\n",
    "                    else:\n",
    "                        return util(str[:fp], fp, YES_INT)\n",
    "                except(IndexError):\n",
    "                    return util(str[:fp], EOF, YES_INT)\n",
    "        \n",
    "            elif state == '3':\n",
    "                try:\n",
    "                    if str[fp] == '0':\n",
    "                        state = '3'\n",
    "                        fp+=1\n",
    "                    elif str[fp] in charSet[53:62]:\n",
    "                        state = '4'\n",
    "                        fp+=1\n",
    "                    else:\n",
    "                        return util(str[:fp], fp, YES_INT)\n",
    "                except(IndexError):\n",
    "                    return util(str[:fp], fp, YES_INT)\n",
    "                \n",
    "            elif state == '4':\n",
    "                return util('', fp, NONE)\n",
    "            \n",
    "    except(IndexError):\n",
    "        return util('', EOF, NONE)\n",
    "print(isInt(''))"
   ]
  },
  {
   "cell_type": "code",
   "execution_count": 12,
   "metadata": {},
   "outputs": [
    {
     "name": "stdout",
     "output_type": "stream",
     "text": [
      "['', -1, 0]\n"
     ]
    }
   ],
   "source": [
    "def isFP(str):\n",
    "    state = FP\n",
    "    fp = 0\n",
    "    try:\n",
    "        while True:\n",
    "            if state == FP:\n",
    "                if str[fp] == '+' or str[fp] == '-':\n",
    "                    state = '1'\n",
    "                    fp += 1\n",
    "                elif str[fp] in charSet[53:62]:\n",
    "                    state = '2'\n",
    "                    fp += 1\n",
    "                elif str[fp] == '0':\n",
    "                    state = '6'\n",
    "                    fp += 1\n",
    "                else:\n",
    "                    return util('', fp, NONE)\n",
    "\n",
    "            elif state == '1':\n",
    "                if str[fp] in charSet[53:62]:\n",
    "                    state = '2'\n",
    "                    fp += 1\n",
    "                elif str[fp] == '0':\n",
    "                    state = '8'\n",
    "                    fp+=1\n",
    "                else:\n",
    "                    return util('', fp, NONE)\n",
    "\n",
    "            elif state == '2':\n",
    "                if str[fp] in charSet[52:62]:\n",
    "                    state = '2'\n",
    "                    fp += 1\n",
    "                elif str[fp] == '.':\n",
    "                    state = '3'\n",
    "                    fp+=1\n",
    "                else:\n",
    "                    return util('', fp, NONE)\n",
    "\n",
    "            elif state == '3':\n",
    "                if str[fp] == '0':\n",
    "                    state = '4'\n",
    "                    fp += 1\n",
    "                elif str[fp] in charSet[53:62]:\n",
    "                    state = '5'\n",
    "                    fp+=1\n",
    "                else:\n",
    "                    return util('', fp, NONE)\n",
    "            \n",
    "            elif state == '4':\n",
    "                if str[fp] in charSet[53:62]:\n",
    "                    state = '5'\n",
    "                    fp+=1\n",
    "                elif str[fp] == '0':\n",
    "                    state = '4'\n",
    "                    fp+=1\n",
    "                else:\n",
    "                    return util('', fp, NONE)\n",
    "\n",
    "            elif state == '5':\n",
    "                try:\n",
    "                    if str[fp] in charSet[52:62]:\n",
    "                        state = '5'\n",
    "                        fp+=1\n",
    "                    else:\n",
    "                        return util(str[:fp], fp, YES_FP)\n",
    "                except(IndexError):\n",
    "                    return util(str[:fp], EOF, YES_FP)\n",
    "        \n",
    "            elif state == '6':\n",
    "                if str[fp] == '.':\n",
    "                    state = '7'\n",
    "                    fp+=1\n",
    "                else:\n",
    "                    return util('', fp, NONE)\n",
    "                \n",
    "            elif state == '7':\n",
    "                if str[fp] in charSet[52:62]:\n",
    "                    state = '5'\n",
    "                    fp+=1\n",
    "                else:\n",
    "                    return util('', fp, NONE)\n",
    "                \n",
    "            elif state == '8':\n",
    "                if str[fp] == '.':\n",
    "                    state = '3'\n",
    "                    fp+=1\n",
    "                else:\n",
    "                    return util('', fp, NONE)\n",
    "    except(IndexError):\n",
    "        return util('', EOF, NONE)\n",
    "\n",
    "print(isFP(''))"
   ]
  },
  {
   "cell_type": "code",
   "execution_count": 13,
   "metadata": {},
   "outputs": [
    {
     "name": "stdout",
     "output_type": "stream",
     "text": [
      "    intx u:=4+2;\n",
      "\n",
      "['', 0, 0]\n"
     ]
    }
   ],
   "source": [
    "def isStr(str):\n",
    "    # print(str)\n",
    "    state = STR\n",
    "    fp = 0\n",
    "    try:\n",
    "        while True:\n",
    "            if state == STR:\n",
    "                if str[fp] == '\"':\n",
    "                    state = '1'\n",
    "                    fp+=1\n",
    "                else:\n",
    "                    return util('', fp, NONE)\n",
    "            \n",
    "            elif state == '1':\n",
    "                if str[fp] == '\\\\':\n",
    "                    state = '3'\n",
    "                    fp+=1\n",
    "                elif str[fp] == '\"':\n",
    "                    state = '2'\n",
    "                    fp+=1\n",
    "                elif str[fp] not in ['\\n', '\\r', '\\\\', '\"']:\n",
    "                    state = '1'\n",
    "                    fp+=1\n",
    "                else:\n",
    "                    return util('', fp, NONE)\n",
    "                    \n",
    "            elif state == '2':\n",
    "                return util(str[:fp], fp, YES_STR)\n",
    "            \n",
    "            elif state == '3':\n",
    "                if str[fp] in ['\\\\','n','r','\"','t']:\n",
    "                    state = '1'\n",
    "                    fp+=1\n",
    "                else:\n",
    "                    return util('', fp, NONE)\n",
    "\n",
    "    except(IndexError)            :\n",
    "        return util('', EOF, NONE)\n",
    "\n",
    "with open('test2.txt', 'r') as f:\n",
    "    x = f.read()\n",
    "    print(x)\n",
    "    print(isStr(x))\n"
   ]
  },
  {
   "cell_type": "code",
   "execution_count": 14,
   "metadata": {},
   "outputs": [
    {
     "name": "stdout",
     "output_type": "stream",
     "text": [
      "['', 1, 128]\n"
     ]
    }
   ],
   "source": [
    "def isSpaceOrComm(str):\n",
    "    state = SP_OR_COMM\n",
    "    fp = 0\n",
    "    try:\n",
    "        while True:\n",
    "            if state == SP_OR_COMM:\n",
    "                if str[fp] in [' ', '\\n', '\\t', '\\r']:\n",
    "                    state = 'sp'\n",
    "                    fp+=1\n",
    "                elif str[fp] == '#':\n",
    "                    state = 'comm'\n",
    "                    fp+=1\n",
    "                else:\n",
    "                    return util('', fp, NONE)\n",
    "            \n",
    "            elif state == 'sp':\n",
    "                try:\n",
    "                    if str[fp] in [' ', '\\n', '\\t', '\\r']:\n",
    "                        state = 'sp'\n",
    "                        fp+=1\n",
    "                    else:\n",
    "                        return util('', fp, YES_SP_OR_COMM)\n",
    "                except(IndexError):\n",
    "                    return util('', fp, YES_SP_OR_COMM)\n",
    "            \n",
    "            elif state == 'comm':\n",
    "                try:\n",
    "                    if str[fp] != '\\n':\n",
    "                        state = 'comm'\n",
    "                        fp+=1\n",
    "                    else:\n",
    "                        fp+=1\n",
    "                        return util('', fp, YES_SP_OR_COMM)\n",
    "                except(IndexError):\n",
    "                    return util('', fp, YES_SP_OR_COMM)\n",
    "                \n",
    "    except(IndexError):\n",
    "        return util('', EOF, NONE)\n",
    "            \n",
    "print(isSpaceOrComm(' '))"
   ]
  },
  {
   "cell_type": "code",
   "execution_count": 15,
   "metadata": {},
   "outputs": [],
   "source": [
    "def panic_mode(str):\n",
    "    fp = 0\n",
    "    while True:\n",
    "        try:\n",
    "            if str[fp] == ';':\n",
    "                return fp+1\n",
    "            else:\n",
    "                fp+=1\n",
    "        except(IndexError):\n",
    "            return"
   ]
  },
  {
   "cell_type": "code",
   "execution_count": 16,
   "metadata": {},
   "outputs": [],
   "source": [
    "def binUtil(str):\n",
    "    str = bin(str)[2:]\n",
    "    if len(str) < 8:\n",
    "        for i in range(8-len(str)):\n",
    "            str = '0' + str\n",
    "    return str"
   ]
  },
  {
   "cell_type": "code",
   "execution_count": 24,
   "metadata": {},
   "outputs": [
    {
     "name": "stdout",
     "output_type": "stream",
     "text": [
      "['int', 3, 64]\n",
      "['main', 4, 32]\n",
      "['(', 1, 2]\n",
      "[')', 1, 2]\n",
      "['{', 1, 2]\n",
      "['string', 6, 64]\n",
      "['str', 3, 32]\n",
      "[':=', 2, 16]\n",
      "['\"sgkj\\\\n\"', 8, 1]\n",
      "[';', 1, 2]\n",
      "['float', 5, 64]\n",
      "['x', 1, 32]\n",
      "[':=', 2, 16]\n",
      "['-', 1, 16]\n",
      "['2.33', 4, 4]\n",
      "[';', 1, 2]\n",
      "['int', 3, 64]\n",
      "['y', 1, 32]\n",
      "[':=', 2, 16]\n",
      "['2', 1, 8]\n",
      "['+2', 2, 8]\n",
      "[';', 1, 2]\n",
      "['}', 1, 2]\n"
     ]
    }
   ],
   "source": [
    "IND_SP_COMM, IND_KW, IND_ID, IND_OP, IND_INT, IND_FP, IND_DEL, IND_STR = 0, 1, 2, 3, 4, 5, 6, 7\n",
    "\n",
    "TokenNames = {\n",
    "    IND_SP_COMM: ['Space / Comment', isSpaceOrComm],\n",
    "    IND_KW: ['Keyword', isKeyword],\n",
    "    IND_ID: ['Identifier', isId],\n",
    "    IND_OP: ['Operator', isOp],\n",
    "    IND_INT: ['Integer Literal', isInt],\n",
    "    IND_FP: ['Floating Point Literal', isFP],\n",
    "    IND_DEL: ['Delimiter', isDelimiter],\n",
    "    IND_STR: ['String Literal', isStr]\n",
    "}\n",
    "def dfa():\n",
    "    lp = 0\n",
    "    with open('test2.txt', 'r') as f:\n",
    "        codex = f.read()\n",
    "        while True:\n",
    "            results, result, final = [], 0b00000000, None\n",
    "            for i in range(8):\n",
    "                results.append(TokenNames[i][1](codex))\n",
    "                result |= results[i][2]\n",
    "\n",
    "            result = binUtil(result)\n",
    "            \n",
    "            if result[IND_KW]=='1' and result[IND_ID]=='1':\n",
    "                if results[IND_KW][1] >= results[IND_ID][1]:\n",
    "                    final = results[IND_KW]\n",
    "                else:\n",
    "                    final = results[IND_ID]\n",
    "            \n",
    "            elif result[IND_INT] == '1' and result[IND_FP] == '1' and result[IND_OP] == '1':\n",
    "                final = results[IND_OP]\n",
    "                \n",
    "            elif result[IND_INT] == '0' and result[IND_FP] == '1' and result[IND_OP] == '1':\n",
    "                final = results[IND_FP]\n",
    "                \n",
    "            elif result[IND_INT] == '1' and result[IND_FP] == '0' and result[IND_OP] == '1':\n",
    "                final = results[IND_INT]\n",
    "                \n",
    "            elif result[IND_INT] == '1' and result[IND_FP] == '1' and result[IND_OP] == '0':\n",
    "                final = results[IND_FP]\n",
    "                \n",
    "            else:\n",
    "                for index in range(8):\n",
    "                    if result[index] == '1':\n",
    "                        final = results[index]\n",
    "                        break\n",
    "            \n",
    "            if final==None or final[1]==EOF:\n",
    "                break\n",
    "            else:\n",
    "                lp = final[1]\n",
    "                codex = codex[lp:]\n",
    "                if final[2] != 0b10000000:\n",
    "                    print(final)\n",
    "\n",
    "dfa()"
   ]
  }
 ],
 "metadata": {
  "interpreter": {
   "hash": "5f21cdc2c17373e7ea18ce2d57b280ba91422f959b4e033eaa6a93a540a3628a"
  },
  "kernelspec": {
   "display_name": "Python 3.10.2 64-bit",
   "language": "python",
   "name": "python3"
  },
  "language_info": {
   "codemirror_mode": {
    "name": "ipython",
    "version": 3
   },
   "file_extension": ".py",
   "mimetype": "text/x-python",
   "name": "python",
   "nbconvert_exporter": "python",
   "pygments_lexer": "ipython3",
   "version": "3.10.2"
  },
  "orig_nbformat": 4
 },
 "nbformat": 4,
 "nbformat_minor": 2
}
