{
 "cells": [
  {
   "cell_type": "code",
   "execution_count": 1,
   "metadata": {},
   "outputs": [],
   "source": [
    "START = 0\n",
    "KW,OP,DEL,ID,INT,FP,STR = 101,102,103,104,105,106,107\n",
    "YES_KW,YES_OP,YES_DEL,YES_ID,YES_INT,YES_FP,YES_STR = 201,202,203,204,205,206,207\n"
   ]
  },
  {
   "cell_type": "code",
   "execution_count": 2,
   "metadata": {},
   "outputs": [
    {
     "name": "stdout",
     "output_type": "stream",
     "text": [
      "['0', '1', '2', '3', '4', '5', '6', '7', '8', '9']\n"
     ]
    }
   ],
   "source": [
    "Tokens = {\n",
    "    'keyword': 'Keyword',\n",
    "    'op': 'Operator',\n",
    "    'delim': 'Delimiter',\n",
    "    'id': 'Identifier',\n",
    "    'int': 'Integer Literal',\n",
    "    'fp': 'Floating Point Literal',\n",
    "    'str': 'String Literal'\n",
    "}\n",
    "\n",
    "charSet = [\n",
    "    'a','b','c','d','e','f','g','h','i','j','k','l','m','n','o','p','q','r','s','t','u','v','w','x','y','z',\n",
    "    'A','B','C','D','E','F','G','H','I','J','K','L','M','N','O','P','Q','R','S','T','U','V','W','X','Y','Z',\n",
    "    '0','1','2','3','4','5','6','7','8','9','_'\n",
    "]\n",
    "\n",
    "TokenNo = 1\n",
    "\n",
    "keywords = ['int', 'float', 'boolean', 'string',\n",
    "            'while', 'until', 'if else', 'true', 'false']\n",
    "keywordEnm = list(enumerate(keywords, start=TokenNo))\n",
    "TokenNo += len(keywords)\n",
    "\n",
    "delimiters = ['{', '}', '[', ']', '(', ')', ';', ',']\n",
    "delimEnm = list(enumerate(delimiters, start=TokenNo))\n",
    "TokenNo += len(delimiters)\n",
    "\n",
    "operators = ['+', '-', '*', '/', '%', '?', '>', '<', '!', ':',\n",
    "            ':=', '==', '>=', '<=', '!=', '&&', '||']\n",
    "opEnm = list(enumerate(operators, start=TokenNo))\n",
    "TokenNo += len(operators)"
   ]
  },
  {
   "cell_type": "code",
   "execution_count": 3,
   "metadata": {},
   "outputs": [],
   "source": [
    "def getNext():\n",
    "    return ''"
   ]
  },
  {
   "cell_type": "code",
   "execution_count": 4,
   "metadata": {},
   "outputs": [],
   "source": [
    "def util1(str, fp, state):\n",
    "    return [str, fp, state]"
   ]
  },
  {
   "cell_type": "code",
   "execution_count": 5,
   "metadata": {},
   "outputs": [
    {
     "name": "stdout",
     "output_type": "stream",
     "text": [
      "['int', 3, 201]\n"
     ]
    }
   ],
   "source": [
    "def subStrMatch(str, fp, list):\n",
    "    if str[0:fp] in list:\n",
    "        return True\n",
    "    else:\n",
    "        return False\n",
    "\n",
    "def isKeyword(str):\n",
    "    fp = 0\n",
    "    while fp<=len(str):\n",
    "        if fp==len(str) or str[fp] not in charSet:\n",
    "            if subStrMatch(str,fp,keywords):\n",
    "                return util1(str[0:fp],fp,YES_KW)\n",
    "            else:\n",
    "                return util1('',fp,-1)\n",
    "        else:\n",
    "            fp+=1\n",
    "\n",
    "print(isKeyword('int'))"
   ]
  },
  {
   "cell_type": "code",
   "execution_count": 6,
   "metadata": {},
   "outputs": [
    {
     "name": "stdout",
     "output_type": "stream",
     "text": [
      "['{', 1, 203]\n"
     ]
    }
   ],
   "source": [
    "def isDelimiter(str):\n",
    "    if str[0] in delimiters:\n",
    "        return util1(str[0],1,YES_DEL)\n",
    "    else:\n",
    "        return util1('',1,-1)\n",
    "\n",
    "print(isDelimiter('{'))"
   ]
  },
  {
   "cell_type": "code",
   "execution_count": 16,
   "metadata": {},
   "outputs": [
    {
     "name": "stdout",
     "output_type": "stream",
     "text": [
      "['&&', 2, 202]\n"
     ]
    }
   ],
   "source": [
    "def isOp(str):\n",
    "    state = OP\n",
    "    fp = 0\n",
    "    while True:\n",
    "        if state == OP:\n",
    "            if str[fp] in operators[:6]:\n",
    "                state = 1\n",
    "            elif str[fp] == ':':\n",
    "                state = ':'\n",
    "            elif str[fp] == '>':\n",
    "                state = '>'\n",
    "            elif str[fp] == '<':\n",
    "                state = '<'\n",
    "            elif str[fp] == '!':\n",
    "                state = '!'\n",
    "            elif str[fp] == '=':\n",
    "                state = '=='\n",
    "            elif str[fp] == '&':\n",
    "                state = '&&'\n",
    "            elif str[fp] == '|':\n",
    "                state = '||'\n",
    "            else:\n",
    "                return\n",
    "            fp+=1\n",
    "            \n",
    "        elif state == 1:\n",
    "            return util1(str[:fp], fp, YES_OP)\n",
    "        \n",
    "        elif state==':' or state=='>' or state=='<' or state=='!':\n",
    "            if str[fp] == '=':\n",
    "                fp+=1\n",
    "            return util1(str[:fp], fp, YES_OP)\n",
    "        \n",
    "        elif state == '==':\n",
    "            if str[fp] == '=':\n",
    "                fp+=1\n",
    "                return util1(str[:fp], fp, YES_OP)\n",
    "            else:\n",
    "                return util1('', fp, -1)\n",
    "            \n",
    "        elif state == '&&':\n",
    "            if str[fp] == '&':\n",
    "                fp+=1\n",
    "                return util1(str[:fp], fp, YES_OP)\n",
    "            else:\n",
    "                return util1('', fp, -1)\n",
    "            \n",
    "        elif state == '||':\n",
    "            if str[fp] == '|':\n",
    "                fp+=1\n",
    "                return util1(str[:fp], fp, YES_OP)\n",
    "            else:\n",
    "                return util1('', fp, -1)\n",
    "    \n",
    "print(isOp('&&'))"
   ]
  },
  {
   "cell_type": "code",
   "execution_count": 18,
   "metadata": {},
   "outputs": [
    {
     "name": "stdout",
     "output_type": "stream",
     "text": [
      "['l_lo', 4, 204]\n"
     ]
    }
   ],
   "source": [
    "def isId(str):\n",
    "    state = ID\n",
    "    fp = 0\n",
    "    while True:\n",
    "        if state == ID:\n",
    "            if str[fp] in charSet[:26]:\n",
    "                state = 'final'\n",
    "                fp+=1\n",
    "            else:\n",
    "                return util1('', fp, -1)\n",
    "        \n",
    "        elif state == 'final':\n",
    "            if str[fp] in charSet:\n",
    "                state = 'final'\n",
    "                fp+=1\n",
    "            else:\n",
    "                return util1(str[:fp], fp, YES_ID)\n",
    "            \n",
    "print(isId('l_lo '))\n"
   ]
  },
  {
   "cell_type": "code",
   "execution_count": 9,
   "metadata": {},
   "outputs": [
    {
     "name": "stdout",
     "output_type": "stream",
     "text": [
      "['', 4, -1]\n"
     ]
    }
   ],
   "source": [
    "def isInt(str):\n",
    "    state = INT\n",
    "    fp = 0\n",
    "    while True:\n",
    "        if state == INT:\n",
    "            if str[fp]=='+' or str[fp]=='-':\n",
    "                state = 1\n",
    "                fp+=1\n",
    "            elif str[fp] in charSet[53:62]:\n",
    "                state = 2\n",
    "                fp+=1\n",
    "            elif str[fp] == '0':\n",
    "                state = 3\n",
    "                fp+=1\n",
    "            else:\n",
    "                return\n",
    "        \n",
    "        elif state == 1:\n",
    "            if str[fp] in charSet[53:62]:\n",
    "                state = 2\n",
    "                fp+=1\n",
    "            else:\n",
    "                return util1('', fp, -1)\n",
    "        \n",
    "        elif state == 2:\n",
    "            if str[fp] in charSet[52:62]:\n",
    "                state = 2\n",
    "                fp+=1\n",
    "            else:\n",
    "                return util1(str[:fp], fp, YES_INT)\n",
    "    \n",
    "        elif state == 3:\n",
    "            if str[fp] == '0':\n",
    "                state = 3\n",
    "                fp+=1\n",
    "            elif str[fp] in charSet[53:62]:\n",
    "                state = 4\n",
    "                fp+=1\n",
    "            else:\n",
    "                return util1(str[:fp], fp, YES_INT)\n",
    "            \n",
    "        elif state == 4:\n",
    "            return util1('', fp, -1)\n",
    "    \n",
    "print(isInt('0003y'))"
   ]
  },
  {
   "cell_type": "code",
   "execution_count": 10,
   "metadata": {},
   "outputs": [
    {
     "name": "stdout",
     "output_type": "stream",
     "text": [
      "['+0.3', 4, 206]\n"
     ]
    }
   ],
   "source": [
    "def isFP(str):\n",
    "    state = FP\n",
    "    fp = 0\n",
    "    while True:\n",
    "        if state == FP:\n",
    "            if str[fp] == '+' or str[fp] == '-':\n",
    "                state = 1\n",
    "                fp += 1\n",
    "            elif str[fp] in charSet[53:62]:\n",
    "                state = 2\n",
    "                fp += 1\n",
    "            elif str[fp] == '0':\n",
    "                state = 6\n",
    "                fp += 1\n",
    "            else:\n",
    "                return\n",
    "\n",
    "        elif state == 1:\n",
    "            if str[fp] in charSet[53:62]:\n",
    "                state = 2\n",
    "                fp += 1\n",
    "            elif str[fp] == '0':\n",
    "                state = 8\n",
    "                fp+=1\n",
    "            else:\n",
    "                return util1('', fp, -1)\n",
    "\n",
    "        elif state == 2:\n",
    "            if str[fp] in charSet[52:62]:\n",
    "                state = 2\n",
    "                fp += 1\n",
    "            elif str[fp] == '.':\n",
    "                state = 3\n",
    "                fp+=1\n",
    "            else:\n",
    "                return util1('', fp, -1)\n",
    "\n",
    "        elif state == 3:\n",
    "            if str[fp] == '0':\n",
    "                state = 4\n",
    "                fp += 1\n",
    "            elif str[fp] in charSet[53:62]:\n",
    "                state = 5\n",
    "                fp+=1\n",
    "            else:\n",
    "                return util1('', fp, -1)\n",
    "        \n",
    "        elif state == 4:\n",
    "            if str[fp] in charSet[53:62]:\n",
    "                state = 5\n",
    "                fp+=1\n",
    "            elif str[fp] == '0':\n",
    "                state = 4\n",
    "                fp+=1\n",
    "            else:\n",
    "                return util1('', fp, -1)\n",
    "\n",
    "        elif state == 5:\n",
    "            if str[fp] in charSet[52:62]:\n",
    "                state = 5\n",
    "                fp+=1\n",
    "            else:\n",
    "                return util1(str[:fp], fp, YES_FP)\n",
    "    \n",
    "        elif state == 6:\n",
    "            if str[fp] == '.':\n",
    "                state = 7\n",
    "                fp+=1\n",
    "            else:\n",
    "                return util1('', fp, -1)\n",
    "            \n",
    "        elif state == 7:\n",
    "            if str[fp] in charSet[52:62]:\n",
    "                state = 5\n",
    "                fp+=1\n",
    "            else:\n",
    "                return util1('', fp, -1)\n",
    "            \n",
    "        elif state == 8:\n",
    "            if str[fp] == '.':\n",
    "                state = 3\n",
    "                fp+=1\n",
    "            else:\n",
    "                return util1('', fp, -1)\n",
    "\n",
    "print(isFP('+0.3p'))"
   ]
  },
  {
   "cell_type": "code",
   "execution_count": 11,
   "metadata": {},
   "outputs": [],
   "source": [
    "def isStr(str):\n",
    "    return\n"
   ]
  },
  {
   "cell_type": "code",
   "execution_count": 12,
   "metadata": {},
   "outputs": [
    {
     "name": "stdout",
     "output_type": "stream",
     "text": [
      "['int', 3, 201]\n"
     ]
    }
   ],
   "source": [
    "def dfa(str):\n",
    "    state = START\n",
    "    results = []\n",
    "    # c = getNext()\n",
    "    results.append(isKeyword(str))\n",
    "    # results.append(isOp(str))\n",
    "    results.append(isDelimiter(str))\n",
    "    # results.append(isId(str))\n",
    "    # results.append(isInt(str))\n",
    "    # results.append(isFP(str))\n",
    "    # results.append(isStr(str))\n",
    "\n",
    "    max = ['',-1,-1]\n",
    "    for tok in results:\n",
    "        if tok[2]!=-1 and len(tok[0]) > len(max[0]):\n",
    "            max = tok\n",
    "    print(max)\n",
    "\n",
    "dfa('int{')\n",
    "    "
   ]
  }
 ],
 "metadata": {
  "interpreter": {
   "hash": "5f21cdc2c17373e7ea18ce2d57b280ba91422f959b4e033eaa6a93a540a3628a"
  },
  "kernelspec": {
   "display_name": "Python 3.10.2 64-bit",
   "language": "python",
   "name": "python3"
  },
  "language_info": {
   "codemirror_mode": {
    "name": "ipython",
    "version": 3
   },
   "file_extension": ".py",
   "mimetype": "text/x-python",
   "name": "python",
   "nbconvert_exporter": "python",
   "pygments_lexer": "ipython3",
   "version": "3.10.2"
  },
  "orig_nbformat": 4
 },
 "nbformat": 4,
 "nbformat_minor": 2
}
